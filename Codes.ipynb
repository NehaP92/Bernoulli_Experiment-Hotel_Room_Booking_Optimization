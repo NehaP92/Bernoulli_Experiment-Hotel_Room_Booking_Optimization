{
 "cells": [
  {
   "cell_type": "code",
   "execution_count": 1,
   "metadata": {
    "ExecuteTime": {
     "end_time": "2021-08-27T00:03:10.003247Z",
     "start_time": "2021-08-27T00:03:09.295196Z"
    }
   },
   "outputs": [],
   "source": [
    "import numpy as np"
   ]
  },
  {
   "cell_type": "code",
   "execution_count": 2,
   "metadata": {
    "ExecuteTime": {
     "end_time": "2021-08-21T15:32:14.843849Z",
     "start_time": "2021-08-21T15:32:14.827310Z"
    }
   },
   "outputs": [
    {
     "name": "stdout",
     "output_type": "stream",
     "text": [
      "[0]\n"
     ]
    }
   ],
   "source": [
    "print(np.random.binomial(1,0.5,1))"
   ]
  },
  {
   "cell_type": "code",
   "execution_count": 3,
   "metadata": {
    "ExecuteTime": {
     "end_time": "2021-08-21T15:36:10.949620Z",
     "start_time": "2021-08-21T15:36:10.930209Z"
    }
   },
   "outputs": [
    {
     "name": "stdout",
     "output_type": "stream",
     "text": [
      "[3 3 3 0 1 2 3 3 1 2]\n"
     ]
    }
   ],
   "source": [
    "print(np.random.binomial(5,0.5,10))"
   ]
  },
  {
   "cell_type": "markdown",
   "metadata": {},
   "source": [
    "- The first argument represents the number of trials - or how many coin flips we’re doing in each experiment\n",
    "- The second argument represents  or the probability of “success”.\n",
    "- The third argument represents how many experiments you’re running"
   ]
  },
  {
   "cell_type": "markdown",
   "metadata": {
    "heading_collapsed": true
   },
   "source": [
    "## Building the Experiment"
   ]
  },
  {
   "cell_type": "code",
   "execution_count": 2,
   "metadata": {
    "ExecuteTime": {
     "end_time": "2021-08-27T00:04:52.234791Z",
     "start_time": "2021-08-27T00:04:52.213277Z"
    },
    "hidden": true
   },
   "outputs": [
    {
     "name": "stdout",
     "output_type": "stream",
     "text": [
      "[0]\n",
      "[1]\n",
      "[0]\n",
      "[0]\n",
      "[0]\n",
      "[1]\n",
      "[1]\n",
      "[0]\n",
      "[1]\n",
      "[0]\n"
     ]
    }
   ],
   "source": [
    "for i in range(10):\n",
    "    print(np.random.binomial(1,0.5,1))"
   ]
  },
  {
   "cell_type": "markdown",
   "metadata": {
    "hidden": true
   },
   "source": [
    "**OR**"
   ]
  },
  {
   "cell_type": "code",
   "execution_count": 3,
   "metadata": {
    "ExecuteTime": {
     "end_time": "2021-08-27T00:05:03.765628Z",
     "start_time": "2021-08-27T00:05:03.759543Z"
    },
    "hidden": true
   },
   "outputs": [
    {
     "name": "stdout",
     "output_type": "stream",
     "text": [
      "[1 0 0 1 0 1 0 1 0 1]\n"
     ]
    }
   ],
   "source": [
    "print(np.random.binomial(1,0.5,10))"
   ]
  },
  {
   "cell_type": "code",
   "execution_count": 4,
   "metadata": {
    "ExecuteTime": {
     "end_time": "2021-08-27T00:08:40.082284Z",
     "start_time": "2021-08-27T00:08:40.070711Z"
    },
    "hidden": true
   },
   "outputs": [
    {
     "name": "stdout",
     "output_type": "stream",
     "text": [
      "[ 8  5 11 12 10 11  9 11 10  4]\n"
     ]
    }
   ],
   "source": [
    "print(np.random.binomial(20,0.5,10))"
   ]
  },
  {
   "cell_type": "markdown",
   "metadata": {
    "heading_collapsed": true
   },
   "source": [
    "## REPEATED BERNOULLI EXPERIMENTS"
   ]
  },
  {
   "cell_type": "code",
   "execution_count": 5,
   "metadata": {
    "ExecuteTime": {
     "end_time": "2021-08-27T00:29:59.564965Z",
     "start_time": "2021-08-27T00:29:59.541138Z"
    },
    "hidden": true
   },
   "outputs": [
    {
     "name": "stdout",
     "output_type": "stream",
     "text": [
      "[1 3 2 3 5 3 3 1 2 2 3 3 2 1 2 4 2 2 4 0]\n"
     ]
    }
   ],
   "source": [
    "np.random.seed(seed=7)\n",
    "print(np.random.binomial(5,0.5,20))"
   ]
  },
  {
   "cell_type": "code",
   "execution_count": 7,
   "metadata": {
    "ExecuteTime": {
     "end_time": "2021-08-27T00:44:40.023129Z",
     "start_time": "2021-08-27T00:44:39.998328Z"
    },
    "hidden": true
   },
   "outputs": [
    {
     "name": "stdout",
     "output_type": "stream",
     "text": [
      "probability for 1000: 0.159\n",
      "probability for 100000: 0.1632\n",
      "probability for 1000000: 0.15635\n"
     ]
    }
   ],
   "source": [
    "n_1000 = np.random.binomial(5,0.5,1000)\n",
    "n_10000 = np.random.binomial(5,0.5,10000)\n",
    "n_100000 = np.random.binomial(5,0.5,100000)\n",
    "\n",
    "print(f\"probability for 1000: {np.sum(n_1000==4)/1000}\")\n",
    "print(f\"probability for 100000: {np.sum(n_10000==4)/10000}\")\n",
    "print(f\"probability for 1000000: {np.sum(n_100000==4)/100000}\")"
   ]
  },
  {
   "cell_type": "markdown",
   "metadata": {
    "heading_collapsed": true
   },
   "source": [
    "## VISUALIZING FLIPPING A COIN"
   ]
  },
  {
   "cell_type": "code",
   "execution_count": 8,
   "metadata": {
    "ExecuteTime": {
     "end_time": "2021-08-27T00:57:37.371204Z",
     "start_time": "2021-08-27T00:57:36.414224Z"
    },
    "hidden": true
   },
   "outputs": [],
   "source": [
    "import matplotlib.pyplot as plt\n",
    "import numpy as np\n",
    "from ipywidgets import interact\n",
    "np.random.seed(seed=7)"
   ]
  },
  {
   "cell_type": "code",
   "execution_count": 13,
   "metadata": {
    "ExecuteTime": {
     "end_time": "2021-08-27T01:07:40.326653Z",
     "start_time": "2021-08-27T01:07:40.313948Z"
    },
    "hidden": true
   },
   "outputs": [],
   "source": [
    "def bar_chart(flips):\n",
    "    np.random.seed(seed=7)\n",
    "    result = np.random.binomial(5,0.5,flips)\n",
    "    fig = plt.figure()\n",
    "    ax = plt.subplot(111)\n",
    "    n,bins,patches = ax.hist(result, bins=np.arange(7)-0.5, rwidth=0.8, density=True)\n",
    "    ax.set_xlabel('Number of Times Throwing Heads', size=16)\n",
    "    ax.set_ylabel('Frequency', size=16)"
   ]
  },
  {
   "cell_type": "code",
   "execution_count": 14,
   "metadata": {
    "ExecuteTime": {
     "end_time": "2021-08-27T01:07:41.359790Z",
     "start_time": "2021-08-27T01:07:40.864941Z"
    },
    "hidden": true
   },
   "outputs": [
    {
     "data": {
      "application/vnd.jupyter.widget-view+json": {
       "model_id": "71099ad186e54821b45e7ccc2a4375f8",
       "version_major": 2,
       "version_minor": 0
      },
      "text/plain": [
       "interactive(children=(Dropdown(description='flips', options=(1, 100, 1000, 10000, 100000, 1000000), value=1), …"
      ]
     },
     "metadata": {},
     "output_type": "display_data"
    },
    {
     "data": {
      "text/plain": [
       "<function __main__.bar_chart(flips)>"
      ]
     },
     "execution_count": 14,
     "metadata": {},
     "output_type": "execute_result"
    }
   ],
   "source": [
    "interact(bar_chart, flips = [1,100,1000,10000,100000,1000000])"
   ]
  },
  {
   "cell_type": "markdown",
   "metadata": {},
   "source": [
    "## Bernoulli experiments to model room bookings"
   ]
  },
  {
   "cell_type": "code",
   "execution_count": 21,
   "metadata": {
    "ExecuteTime": {
     "end_time": "2021-08-27T03:50:20.461687Z",
     "start_time": "2021-08-27T03:50:20.453704Z"
    }
   },
   "outputs": [],
   "source": [
    "def booking(amount):\n",
    "    bookings = np.random.binomial(100,0.92,size=amount)\n",
    "    length = len(np.unique(np.array(bookings)))\n",
    "    \n",
    "    fig = plt.figure()\n",
    "    ax = fig.add_subplot(111)\n",
    "    n,bins,patches = ax.hist(bookings, bins = np.arange(81,101)-0.5, rwidth=0.9,density=True)\n",
    "    ax.set_xlabel('Number of rooms booked', size=16)\n",
    "    ax.set_ylabel('Frequency', size=16)\n",
    "    ax.set_xticks(range(82,100))\n",
    "    plt.show();"
   ]
  },
  {
   "cell_type": "code",
   "execution_count": 22,
   "metadata": {
    "ExecuteTime": {
     "end_time": "2021-08-27T03:50:21.161976Z",
     "start_time": "2021-08-27T03:50:20.780112Z"
    }
   },
   "outputs": [
    {
     "data": {
      "application/vnd.jupyter.widget-view+json": {
       "model_id": "510606cf71324cbd842b47340fabbd89",
       "version_major": 2,
       "version_minor": 0
      },
      "text/plain": [
       "interactive(children=(Dropdown(description='amount', options=(1, 100, 1000, 10000, 100000, 1000000), value=1),…"
      ]
     },
     "metadata": {},
     "output_type": "display_data"
    },
    {
     "data": {
      "text/plain": [
       "<function __main__.booking(amount)>"
      ]
     },
     "execution_count": 22,
     "metadata": {},
     "output_type": "execute_result"
    }
   ],
   "source": [
    "interact(booking, amount=[1,100,1000,10000,100000,1000000])"
   ]
  },
  {
   "cell_type": "markdown",
   "metadata": {},
   "source": [
    "## CALCULATING PROFIT ON ANY GIVEN NIGHT"
   ]
  },
  {
   "cell_type": "code",
   "execution_count": 29,
   "metadata": {
    "ExecuteTime": {
     "end_time": "2021-08-27T04:22:49.191014Z",
     "start_time": "2021-08-27T04:22:49.185030Z"
    }
   },
   "outputs": [],
   "source": [
    "def num_booked(booking):\n",
    "    booking_num = np.array(np.random.binomial(booking,0.92,10000))\n",
    "    \n",
    "    fig = plt.figure()\n",
    "    ax = fig.add_subplot(111)\n",
    "    ax.hist(booking_num, bins = np.arange(84,104)-0.5, rwidth=0.9, density=True)\n",
    "    ax.set_xlabel('Number of rooms booked', size=16)\n",
    "    ax.set_ylabel('Frequency', size=16)\n",
    "    ax.set_xticks(range(85,booking))\n",
    "    plt.show()"
   ]
  },
  {
   "cell_type": "markdown",
   "metadata": {},
   "source": [
    "### 1) The Bernoulli Experiment when booking 104 rooms"
   ]
  },
  {
   "cell_type": "code",
   "execution_count": 30,
   "metadata": {
    "ExecuteTime": {
     "end_time": "2021-08-27T04:22:50.953602Z",
     "start_time": "2021-08-27T04:22:50.767115Z"
    }
   },
   "outputs": [
    {
     "data": {
      "application/vnd.jupyter.widget-view+json": {
       "model_id": "502e74781321433fbc6f04440428824e",
       "version_major": 2,
       "version_minor": 0
      },
      "text/plain": [
       "interactive(children=(Dropdown(description='booking', options=(90, 91, 92, 93, 94, 95, 96, 97, 98, 99, 100, 10…"
      ]
     },
     "metadata": {},
     "output_type": "display_data"
    },
    {
     "data": {
      "text/plain": [
       "<function __main__.num_booked(booking)>"
      ]
     },
     "execution_count": 30,
     "metadata": {},
     "output_type": "execute_result"
    }
   ],
   "source": [
    "interact(num_booked, booking = range(90,110))"
   ]
  },
  {
   "cell_type": "markdown",
   "metadata": {},
   "source": [
    "### 2) The Profit Distribution when booking 104 rooms"
   ]
  },
  {
   "cell_type": "code",
   "execution_count": 32,
   "metadata": {
    "ExecuteTime": {
     "end_time": "2021-08-27T04:32:48.334826Z",
     "start_time": "2021-08-27T04:32:48.318333Z"
    }
   },
   "outputs": [
    {
     "name": "stdout",
     "output_type": "stream",
     "text": [
      "[19800 18800 19200 ... 18600 19000 19600]\n"
     ]
    }
   ],
   "source": [
    "np.random.seed(seed=7)\n",
    "\n",
    "booking_104 = np.random.binomial(104,0.92,10000)\n",
    "\n",
    "booking_number = np.array(booking_104)\n",
    "\n",
    "revenue = 200*booking_number\n",
    "cost = 400*(booking_number-100)\n",
    "cost_final = np.where(cost<0,0,cost)\n",
    "profit = revenue - cost_final\n",
    "\n",
    "print(profit)"
   ]
  },
  {
   "cell_type": "markdown",
   "metadata": {
    "ExecuteTime": {
     "end_time": "2021-08-27T04:33:09.219849Z",
     "start_time": "2021-08-27T04:33:08.859561Z"
    }
   },
   "source": [
    "### 3) The Expected Profit"
   ]
  },
  {
   "cell_type": "code",
   "execution_count": 34,
   "metadata": {
    "ExecuteTime": {
     "end_time": "2021-08-27T04:36:30.984834Z",
     "start_time": "2021-08-27T04:36:30.977464Z"
    }
   },
   "outputs": [
    {
     "name": "stdout",
     "output_type": "stream",
     "text": [
      "19124.42\n"
     ]
    }
   ],
   "source": [
    "print(np.sum(profit)/10000)"
   ]
  },
  {
   "cell_type": "code",
   "execution_count": 38,
   "metadata": {
    "ExecuteTime": {
     "end_time": "2021-08-27T04:47:53.641167Z",
     "start_time": "2021-08-27T04:47:53.624210Z"
    }
   },
   "outputs": [],
   "source": [
    "def num_booked(booking = 104):\n",
    "    booking_num = np.array(np.random.binomial(booking,0.92,10000))\n",
    "    \n",
    "    fig = plt.figure()\n",
    "    ax = fig.add_subplot(111)\n",
    "    bins = np.arange(booking_num.min(),booking_num.max())\n",
    "    \n",
    "    ax.hist(booking_num, bins = bins-0.5, rwidth=0.9,density = True)\n",
    "    \n",
    "    n, bins, patches = ax.hist(booking_num, bins = bins-0.5, rwidth=0.9, density = True) \n",
    "    ax.set_xlabel(f\"Expected occupancy with {booking} rooms booked\", size=16)\n",
    "    ax.set_ylabel('Frequency', size=16)\n",
    "    ax.set_xticks(range(85,booking))\n",
    "    plt.show()\n",
    "    \n",
    "                  \n",
    "    booking_rooms= np.array(np.random.binomial(n=booking, p=0.92, size=10000))\n",
    "    booking_number = np.array(booking_rooms)\n",
    "    revenue = 220 * booking_number\n",
    "    cost = (booking_number - 100) * 400\n",
    "    cost_final = np.where(cost<0, 0, cost) \n",
    "    profit = revenue - cost_final\n",
    "    \n",
    "                  \n",
    "    fig = plt.figure()\n",
    "    ax = fig.add_subplot(111)\n",
    "    bins2 = np.arange(profit.min(), profit.max(),(round((profit.max() - profit.min())/18)))\n",
    "   \n",
    "    n, bins, patches = ax.hist(profit, bins = bins2,  rwidth=0.9, density = True) \n",
    "    ax.set_xlabel(f\"Expected profit when booking {booking} rooms\", size=16)\n",
    "    ax.set_ylabel('Frequency', size=16)\n",
    "    plt.show()"
   ]
  },
  {
   "cell_type": "code",
   "execution_count": 39,
   "metadata": {
    "ExecuteTime": {
     "end_time": "2021-08-27T04:47:55.878269Z",
     "start_time": "2021-08-27T04:47:54.736545Z"
    }
   },
   "outputs": [
    {
     "data": {
      "application/vnd.jupyter.widget-view+json": {
       "model_id": "3efea84e04dd4e7683291db2ab5c1683",
       "version_major": 2,
       "version_minor": 0
      },
      "text/plain": [
       "interactive(children=(Dropdown(description='booking', index=14, options=(90, 91, 92, 93, 94, 95, 96, 97, 98, 9…"
      ]
     },
     "metadata": {},
     "output_type": "display_data"
    }
   ],
   "source": [
    "widget = interact(num_booked, booking=[90, 91, 92, 93, 94, 95, 96, 97, 98, 99, 100, 101, 102, 103, \n",
    "                                          104, 105, 106, 107, 108, 109])"
   ]
  },
  {
   "cell_type": "code",
   "execution_count": null,
   "metadata": {},
   "outputs": [],
   "source": []
  }
 ],
 "metadata": {
  "kernelspec": {
   "display_name": "Python 3",
   "language": "python",
   "name": "python3"
  },
  "language_info": {
   "codemirror_mode": {
    "name": "ipython",
    "version": 3
   },
   "file_extension": ".py",
   "mimetype": "text/x-python",
   "name": "python",
   "nbconvert_exporter": "python",
   "pygments_lexer": "ipython3",
   "version": "3.6.9"
  },
  "toc": {
   "base_numbering": 1,
   "nav_menu": {},
   "number_sections": true,
   "sideBar": true,
   "skip_h1_title": false,
   "title_cell": "Table of Contents",
   "title_sidebar": "Contents",
   "toc_cell": false,
   "toc_position": {},
   "toc_section_display": true,
   "toc_window_display": false
  }
 },
 "nbformat": 4,
 "nbformat_minor": 2
}
