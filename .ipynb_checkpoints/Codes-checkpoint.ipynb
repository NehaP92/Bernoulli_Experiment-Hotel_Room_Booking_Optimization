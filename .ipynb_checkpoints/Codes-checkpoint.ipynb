{
 "cells": [
  {
   "cell_type": "code",
   "execution_count": 1,
   "metadata": {
    "ExecuteTime": {
     "end_time": "2021-09-05T21:05:38.166182Z",
     "start_time": "2021-09-05T21:05:37.707519Z"
    }
   },
   "outputs": [],
   "source": [
    "import numpy as np"
   ]
  },
  {
   "cell_type": "code",
   "execution_count": 2,
   "metadata": {
    "ExecuteTime": {
     "end_time": "2021-09-05T21:05:38.178143Z",
     "start_time": "2021-09-05T21:05:38.170163Z"
    }
   },
   "outputs": [
    {
     "name": "stdout",
     "output_type": "stream",
     "text": [
      "[1]\n"
     ]
    }
   ],
   "source": [
    "print(np.random.binomial(1,0.5,1))"
   ]
  },
  {
   "cell_type": "code",
   "execution_count": 3,
   "metadata": {
    "ExecuteTime": {
     "end_time": "2021-09-05T21:05:38.186118Z",
     "start_time": "2021-09-05T21:05:38.180134Z"
    }
   },
   "outputs": [
    {
     "name": "stdout",
     "output_type": "stream",
     "text": [
      "[3 2 2 2 2 3 3 0 4 3]\n"
     ]
    }
   ],
   "source": [
    "print(np.random.binomial(5,0.5,10))"
   ]
  },
  {
   "cell_type": "markdown",
   "metadata": {},
   "source": [
    "- The first argument represents the number of trials - or how many coin flips we’re doing in each experiment\n",
    "- The second argument represents  or the probability of “success”.\n",
    "- The third argument represents how many experiments you’re running"
   ]
  },
  {
   "cell_type": "markdown",
   "metadata": {
    "heading_collapsed": true
   },
   "source": [
    "## Building the Experiment"
   ]
  },
  {
   "cell_type": "code",
   "execution_count": 4,
   "metadata": {
    "ExecuteTime": {
     "end_time": "2021-09-05T21:05:38.193101Z",
     "start_time": "2021-09-05T21:05:38.188115Z"
    },
    "hidden": true
   },
   "outputs": [
    {
     "name": "stdout",
     "output_type": "stream",
     "text": [
      "[0]\n",
      "[0]\n",
      "[0]\n",
      "[1]\n",
      "[0]\n",
      "[0]\n",
      "[0]\n",
      "[1]\n",
      "[1]\n",
      "[1]\n"
     ]
    }
   ],
   "source": [
    "for i in range(10):\n",
    "    print(np.random.binomial(1,0.5,1))"
   ]
  },
  {
   "cell_type": "markdown",
   "metadata": {
    "hidden": true
   },
   "source": [
    "**OR**"
   ]
  },
  {
   "cell_type": "code",
   "execution_count": 5,
   "metadata": {
    "ExecuteTime": {
     "end_time": "2021-09-05T21:05:38.199086Z",
     "start_time": "2021-09-05T21:05:38.195094Z"
    },
    "hidden": true
   },
   "outputs": [
    {
     "name": "stdout",
     "output_type": "stream",
     "text": [
      "[1 0 1 1 1 1 0 0 0 0]\n"
     ]
    }
   ],
   "source": [
    "print(np.random.binomial(1,0.5,10))"
   ]
  },
  {
   "cell_type": "code",
   "execution_count": 6,
   "metadata": {
    "ExecuteTime": {
     "end_time": "2021-09-05T21:05:38.206065Z",
     "start_time": "2021-09-05T21:05:38.202077Z"
    },
    "hidden": true
   },
   "outputs": [
    {
     "name": "stdout",
     "output_type": "stream",
     "text": [
      "[10  8 11  9 10 10  9  6 14 12]\n"
     ]
    }
   ],
   "source": [
    "print(np.random.binomial(20,0.5,10))"
   ]
  },
  {
   "cell_type": "markdown",
   "metadata": {
    "heading_collapsed": true
   },
   "source": [
    "## REPEATED BERNOULLI EXPERIMENTS"
   ]
  },
  {
   "cell_type": "code",
   "execution_count": 7,
   "metadata": {
    "ExecuteTime": {
     "end_time": "2021-09-05T21:05:38.213047Z",
     "start_time": "2021-09-05T21:05:38.208061Z"
    },
    "hidden": true
   },
   "outputs": [
    {
     "name": "stdout",
     "output_type": "stream",
     "text": [
      "[1 3 2 3 5 3 3 1 2 2 3 3 2 1 2 4 2 2 4 0]\n"
     ]
    }
   ],
   "source": [
    "np.random.seed(seed=7)\n",
    "print(np.random.binomial(5,0.5,20))"
   ]
  },
  {
   "cell_type": "code",
   "execution_count": 8,
   "metadata": {
    "ExecuteTime": {
     "end_time": "2021-09-05T21:05:38.228007Z",
     "start_time": "2021-09-05T21:05:38.215042Z"
    },
    "hidden": true
   },
   "outputs": [
    {
     "name": "stdout",
     "output_type": "stream",
     "text": [
      "probability for 1000: 0.164\n",
      "probability for 100000: 0.1588\n",
      "probability for 1000000: 0.15795\n"
     ]
    }
   ],
   "source": [
    "n_1000 = np.random.binomial(5,0.5,1000)\n",
    "n_10000 = np.random.binomial(5,0.5,10000)\n",
    "n_100000 = np.random.binomial(5,0.5,100000)\n",
    "\n",
    "print(f\"probability for 1000: {np.sum(n_1000==4)/1000}\")\n",
    "print(f\"probability for 100000: {np.sum(n_10000==4)/10000}\")\n",
    "print(f\"probability for 1000000: {np.sum(n_100000==4)/100000}\")"
   ]
  },
  {
   "cell_type": "markdown",
   "metadata": {
    "heading_collapsed": true
   },
   "source": [
    "## VISUALIZING FLIPPING A COIN"
   ]
  },
  {
   "cell_type": "code",
   "execution_count": 9,
   "metadata": {
    "ExecuteTime": {
     "end_time": "2021-09-05T21:05:39.019672Z",
     "start_time": "2021-09-05T21:05:38.230001Z"
    },
    "hidden": true
   },
   "outputs": [],
   "source": [
    "import matplotlib.pyplot as plt\n",
    "import numpy as np\n",
    "from ipywidgets import interact\n",
    "np.random.seed(seed=7)"
   ]
  },
  {
   "cell_type": "code",
   "execution_count": 10,
   "metadata": {
    "ExecuteTime": {
     "end_time": "2021-09-05T21:05:39.035493Z",
     "start_time": "2021-09-05T21:05:39.024526Z"
    },
    "hidden": true
   },
   "outputs": [],
   "source": [
    "def bar_chart(flips):\n",
    "    np.random.seed(seed=7)\n",
    "    result = np.random.binomial(5,0.5,flips)\n",
    "    fig = plt.figure()\n",
    "    ax = plt.subplot(111)\n",
    "    n,bins,patches = ax.hist(result, bins=np.arange(7)-0.5, rwidth=0.8, density=True)\n",
    "    ax.set_xlabel('Number of Times Throwing Heads', size=16)\n",
    "    ax.set_ylabel('Frequency', size=16)"
   ]
  },
  {
   "cell_type": "code",
   "execution_count": 11,
   "metadata": {
    "ExecuteTime": {
     "end_time": "2021-09-05T21:05:39.397141Z",
     "start_time": "2021-09-05T21:05:39.037485Z"
    },
    "hidden": true
   },
   "outputs": [
    {
     "data": {
      "application/vnd.jupyter.widget-view+json": {
       "model_id": "cd969446a1724da68012d1797c74e233",
       "version_major": 2,
       "version_minor": 0
      },
      "text/plain": [
       "interactive(children=(Dropdown(description='flips', options=(1, 100, 1000, 10000, 100000, 1000000), value=1), …"
      ]
     },
     "metadata": {},
     "output_type": "display_data"
    },
    {
     "data": {
      "text/plain": [
       "<function __main__.bar_chart(flips)>"
      ]
     },
     "execution_count": 11,
     "metadata": {},
     "output_type": "execute_result"
    }
   ],
   "source": [
    "interact(bar_chart, flips = [1,100,1000,10000,100000,1000000])"
   ]
  },
  {
   "cell_type": "markdown",
   "metadata": {},
   "source": [
    "## Bernoulli experiments to model room bookings"
   ]
  },
  {
   "cell_type": "code",
   "execution_count": 12,
   "metadata": {
    "ExecuteTime": {
     "end_time": "2021-09-05T21:05:39.411068Z",
     "start_time": "2021-09-05T21:05:39.401525Z"
    }
   },
   "outputs": [],
   "source": [
    "def booking(amount):\n",
    "    bookings = np.random.binomial(100,0.92,size=amount)\n",
    "    length = len(np.unique(np.array(bookings)))\n",
    "    \n",
    "    fig = plt.figure()\n",
    "    ax = fig.add_subplot(111)\n",
    "    n,bins,patches = ax.hist(bookings, bins = np.arange(81,101)-0.5, rwidth=0.9,density=True)\n",
    "    ax.set_xlabel('Number of rooms booked', size=16)\n",
    "    ax.set_ylabel('Frequency', size=16)\n",
    "    ax.set_xticks(range(82,100))\n",
    "    plt.show();"
   ]
  },
  {
   "cell_type": "code",
   "execution_count": 13,
   "metadata": {
    "ExecuteTime": {
     "end_time": "2021-09-05T21:05:39.832236Z",
     "start_time": "2021-09-05T21:05:39.413063Z"
    }
   },
   "outputs": [
    {
     "data": {
      "application/vnd.jupyter.widget-view+json": {
       "model_id": "262f5dcfeb9a47c38edf6a21c2d8f570",
       "version_major": 2,
       "version_minor": 0
      },
      "text/plain": [
       "interactive(children=(Dropdown(description='amount', options=(1, 100, 1000, 10000, 100000, 1000000), value=1),…"
      ]
     },
     "metadata": {},
     "output_type": "display_data"
    },
    {
     "data": {
      "text/plain": [
       "<function __main__.booking(amount)>"
      ]
     },
     "execution_count": 13,
     "metadata": {},
     "output_type": "execute_result"
    }
   ],
   "source": [
    "interact(booking, amount=[1,100,1000,10000,100000,1000000])"
   ]
  },
  {
   "cell_type": "markdown",
   "metadata": {},
   "source": [
    "## CALCULATING PROFIT ON ANY GIVEN NIGHT"
   ]
  },
  {
   "cell_type": "code",
   "execution_count": 14,
   "metadata": {
    "ExecuteTime": {
     "end_time": "2021-09-05T21:05:39.848243Z",
     "start_time": "2021-09-05T21:05:39.836348Z"
    }
   },
   "outputs": [],
   "source": [
    "def num_booked(booking):\n",
    "    booking_num = np.array(np.random.binomial(booking,0.92,10000))\n",
    "    \n",
    "    fig = plt.figure()\n",
    "    ax = fig.add_subplot(111)\n",
    "    ax.hist(booking_num, bins = np.arange(84,104)-0.5, rwidth=0.9, density=True)\n",
    "    ax.set_xlabel('Number of rooms booked', size=16)\n",
    "    ax.set_ylabel('Frequency', size=16)\n",
    "    ax.set_xticks(range(85,booking))\n",
    "    plt.show()"
   ]
  },
  {
   "cell_type": "markdown",
   "metadata": {},
   "source": [
    "### 1) The Bernoulli Experiment when booking 104 rooms"
   ]
  },
  {
   "cell_type": "code",
   "execution_count": 15,
   "metadata": {
    "ExecuteTime": {
     "end_time": "2021-09-05T21:05:40.171361Z",
     "start_time": "2021-09-05T21:05:39.852177Z"
    }
   },
   "outputs": [
    {
     "data": {
      "application/vnd.jupyter.widget-view+json": {
       "model_id": "9deae22adfa74126b7fd6ba64fe859e3",
       "version_major": 2,
       "version_minor": 0
      },
      "text/plain": [
       "interactive(children=(Dropdown(description='booking', options=(90, 91, 92, 93, 94, 95, 96, 97, 98, 99, 100, 10…"
      ]
     },
     "metadata": {},
     "output_type": "display_data"
    },
    {
     "data": {
      "text/plain": [
       "<function __main__.num_booked(booking)>"
      ]
     },
     "execution_count": 15,
     "metadata": {},
     "output_type": "execute_result"
    }
   ],
   "source": [
    "interact(num_booked, booking = range(90,110))"
   ]
  },
  {
   "cell_type": "markdown",
   "metadata": {},
   "source": [
    "### 2) The Profit Distribution when booking 104 rooms"
   ]
  },
  {
   "cell_type": "code",
   "execution_count": 16,
   "metadata": {
    "ExecuteTime": {
     "end_time": "2021-09-05T21:05:40.186283Z",
     "start_time": "2021-09-05T21:05:40.174600Z"
    }
   },
   "outputs": [
    {
     "name": "stdout",
     "output_type": "stream",
     "text": [
      "[19800 18800 19200 ... 18600 19000 19600]\n"
     ]
    }
   ],
   "source": [
    "np.random.seed(seed=7)\n",
    "\n",
    "booking_104 = np.random.binomial(104,0.92,10000)\n",
    "\n",
    "booking_number = np.array(booking_104)\n",
    "\n",
    "revenue = 200*booking_number\n",
    "cost = 400*(booking_number-100)\n",
    "cost_final = np.where(cost<0,0,cost)\n",
    "profit = revenue - cost_final\n",
    "\n",
    "print(profit)"
   ]
  },
  {
   "cell_type": "markdown",
   "metadata": {
    "ExecuteTime": {
     "end_time": "2021-08-27T04:33:09.219849Z",
     "start_time": "2021-08-27T04:33:08.859561Z"
    }
   },
   "source": [
    "### 3) The Expected Profit"
   ]
  },
  {
   "cell_type": "code",
   "execution_count": 17,
   "metadata": {
    "ExecuteTime": {
     "end_time": "2021-09-05T21:05:40.194261Z",
     "start_time": "2021-09-05T21:05:40.189278Z"
    }
   },
   "outputs": [
    {
     "name": "stdout",
     "output_type": "stream",
     "text": [
      "19124.42\n"
     ]
    }
   ],
   "source": [
    "print(np.sum(profit)/10000)"
   ]
  },
  {
   "cell_type": "code",
   "execution_count": 18,
   "metadata": {
    "ExecuteTime": {
     "end_time": "2021-09-05T21:05:40.206235Z",
     "start_time": "2021-09-05T21:05:40.196260Z"
    }
   },
   "outputs": [],
   "source": [
    "def num_booked(booking = 104):\n",
    "    booking_num = np.array(np.random.binomial(booking,0.92,10000))\n",
    "    \n",
    "    fig = plt.figure()\n",
    "    ax = fig.add_subplot(111)\n",
    "    bins = np.arange(booking_num.min(),booking_num.max())\n",
    "    \n",
    "    ax.hist(booking_num, bins = bins-0.5, rwidth=0.9,density = True)\n",
    "    \n",
    "    n, bins, patches = ax.hist(booking_num, bins = bins-0.5, rwidth=0.9, density = True) \n",
    "    ax.set_xlabel(f\"Expected occupancy with {booking} rooms booked\", size=16)\n",
    "    ax.set_ylabel('Frequency', size=16)\n",
    "    ax.set_xticks(range(85,booking))\n",
    "    plt.show()\n",
    "    \n",
    "                  \n",
    "    booking_rooms= np.array(np.random.binomial(n=booking, p=0.92, size=10000))\n",
    "    booking_number = np.array(booking_rooms)\n",
    "    revenue = 220 * booking_number\n",
    "    cost = (booking_number - 100) * 400\n",
    "    cost_final = np.where(cost<0, 0, cost) \n",
    "    profit = revenue - cost_final\n",
    "    \n",
    "                  \n",
    "    fig = plt.figure()\n",
    "    ax = fig.add_subplot(111)\n",
    "    bins2 = np.arange(profit.min(), profit.max(),(round((profit.max() - profit.min())/18)))\n",
    "   \n",
    "    n, bins, patches = ax.hist(profit, bins = bins2,  rwidth=0.9, density = True) \n",
    "    ax.set_xlabel(f\"Expected profit when booking {booking} rooms\", size=16)\n",
    "    ax.set_ylabel('Frequency', size=16)\n",
    "    plt.show()"
   ]
  },
  {
   "cell_type": "code",
   "execution_count": 19,
   "metadata": {
    "ExecuteTime": {
     "end_time": "2021-09-05T21:05:41.018058Z",
     "start_time": "2021-09-05T21:05:40.208420Z"
    }
   },
   "outputs": [
    {
     "data": {
      "application/vnd.jupyter.widget-view+json": {
       "model_id": "3082de710b32462ba3571f2f1b8fb245",
       "version_major": 2,
       "version_minor": 0
      },
      "text/plain": [
       "interactive(children=(Dropdown(description='booking', index=14, options=(90, 91, 92, 93, 94, 95, 96, 97, 98, 9…"
      ]
     },
     "metadata": {},
     "output_type": "display_data"
    }
   ],
   "source": [
    "widget = interact(num_booked, booking=[90, 91, 92, 93, 94, 95, 96, 97, 98, 99, 100, 101, 102, 103, \n",
    "                                          104, 105, 106, 107, 108, 109])"
   ]
  },
  {
   "cell_type": "markdown",
   "metadata": {},
   "source": [
    "## Using Python to define Optimal numbers of rooms booked"
   ]
  },
  {
   "cell_type": "markdown",
   "metadata": {},
   "source": [
    "Below you can see a simulation using a for loop to iterate through a number of rooms booked and conducting the bernouli experiment using each of the numbers in the range from 97 to 120. The results are then plotted on a graph for you to visualize the profit associated with each number of rooms booked. Below is the code in Python to accomplish this along with descriptions of what is happening in the code."
   ]
  },
  {
   "cell_type": "markdown",
   "metadata": {},
   "source": [
    "### Declaring Variables"
   ]
  },
  {
   "cell_type": "code",
   "execution_count": 20,
   "metadata": {
    "ExecuteTime": {
     "end_time": "2021-09-05T21:10:07.977430Z",
     "start_time": "2021-09-05T21:10:07.970476Z"
    }
   },
   "outputs": [],
   "source": [
    "revenue = 220*booking_104\n",
    "cost = (booking_104-100)*400\n",
    "cost_final = np.where(cost<0,0,cost)\n",
    "profit = revenue-cost_final"
   ]
  },
  {
   "cell_type": "markdown",
   "metadata": {},
   "source": [
    "First we determine the income we would recieve from each of experiments we performed. In this line of code, the result of each of the experiments is multiplied by the cost of each room, $220. We then store this in a variable called revenue.\n",
    "\n",
    "`revenue = 220 * booking_104`\n",
    "\n",
    "Next, we calculate the cost of placing a customer with another hotel if we don’t have a room available. In this case, for every room we book, over our occupancy, it costs us $400. we store this value in a variable called cost.\n",
    "\n",
    "`cost = (booking_104 - 100) * 400`\n",
    "\n",
    "Then we need to correct for negative cost. Here we use the .where() function from the numpy library. In our case we want the cost if it is positive, but if it is less than 0 we will use 0 so we don’t have a negative cost. We store this information in a variable called cost_final.\n",
    "\n",
    "`cost_final = np.where(cost<0, 0, cost)`\n",
    "\n",
    "Finally we are able to calculate our profit using these calculations by subtracting cost_final from revenue. We store this using the variable profit.\n",
    "\n",
    "`profit = revenue - cost_final`"
   ]
  },
  {
   "cell_type": "markdown",
   "metadata": {},
   "source": [
    "### Simulation multiple experiments"
   ]
  },
  {
   "cell_type": "markdown",
   "metadata": {},
   "source": [
    "In the loop below, we use the above variables along with the code from the experiments we did before to perform the experiment for each number of rooms booked between 97 and 120 and store the profit from each in a list. The code for this is below."
   ]
  },
  {
   "cell_type": "code",
   "execution_count": 22,
   "metadata": {
    "ExecuteTime": {
     "end_time": "2021-09-05T21:29:20.380686Z",
     "start_time": "2021-09-05T21:29:20.353045Z"
    }
   },
   "outputs": [],
   "source": [
    "n_experiments = 10000\n",
    "rooms_in_loop = range(97,121)\n",
    "all_profits = []\n",
    "\n",
    "for r in rooms_in_loop:\n",
    "    bookings = np.random.binomial(r,0.92,n_experiments)\n",
    "    revenue = 220*bookings\n",
    "    cost = (bookings-100)*400\n",
    "    cost_final = np.where(cost<0,0,cost)\n",
    "    profit = revenue-cost_final\n",
    "    expected_profit = np.sum(profit)/n_experiments\n",
    "    all_profits.append(expected_profit)"
   ]
  },
  {
   "cell_type": "markdown",
   "metadata": {},
   "source": [
    "### Graphing the experimented results"
   ]
  },
  {
   "cell_type": "markdown",
   "metadata": {},
   "source": [
    "Now that we have simulated 10,000 experiments for each number of overbookings, we can graph the resulting profits to see which will yield us the best profit. To do this we use a library in Python called matplotlib.pyplot which has been assigned to the common alias plt so we don’t have to type it all out everytime we want to use it. With the command below, we are able to generate a simple line plot so we can visualize the number of overbooked rooms and the profit associated with each. This gives us a quick way to see where the best number of rooms to overbook is."
   ]
  },
  {
   "cell_type": "code",
   "execution_count": 23,
   "metadata": {
    "ExecuteTime": {
     "end_time": "2021-09-05T21:30:57.610054Z",
     "start_time": "2021-09-05T21:30:57.388600Z"
    }
   },
   "outputs": [
    {
     "data": {
      "image/png": "[encoded data removed]",
      "text/plain": [
       "<Figure size 432x288 with 1 Axes>"
      ]
     },
     "metadata": {
      "needs_background": "light"
     },
     "output_type": "display_data"
    }
   ],
   "source": [
    "plt.plot(rooms_in_loop,all_profits);"
   ]
  },
  {
   "cell_type": "markdown",
   "metadata": {},
   "source": [
    "### Conclusion\n",
    "\n",
    "Is overbooking your hotel a wise decision or not? Hotels often face the problem of customers not showing up. In this course you learned how Python can be used to help make better business decisions. In Flatiron School’s Data Science Boot Camp, you can learn techniques such as these and how you can apply them to a business scenario."
   ]
  },
  {
   "cell_type": "code",
   "execution_count": null,
   "metadata": {},
   "outputs": [],
   "source": []
  }
 ],
 "metadata": {
  "kernelspec": {
   "display_name": "Python 3",
   "language": "python",
   "name": "python3"
  },
  "language_info": {
   "codemirror_mode": {
    "name": "ipython",
    "version": 3
   },
   "file_extension": ".py",
   "mimetype": "text/x-python",
   "name": "python",
   "nbconvert_exporter": "python",
   "pygments_lexer": "ipython3",
   "version": "3.6.9"
  },
  "toc": {
   "base_numbering": 1,
   "nav_menu": {},
   "number_sections": true,
   "sideBar": true,
   "skip_h1_title": false,
   "title_cell": "Table of Contents",
   "title_sidebar": "Contents",
   "toc_cell": false,
   "toc_position": {},
   "toc_section_display": true,
   "toc_window_display": false
  }
 },
 "nbformat": 4,
 "nbformat_minor": 2
}
