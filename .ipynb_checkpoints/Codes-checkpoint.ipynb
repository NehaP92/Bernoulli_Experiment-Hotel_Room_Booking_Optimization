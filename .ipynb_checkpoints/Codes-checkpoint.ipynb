{
 "cells": [
  {
   "cell_type": "code",
   "execution_count": 1,
   "metadata": {
    "ExecuteTime": {
     "end_time": "2021-08-27T00:03:10.003247Z",
     "start_time": "2021-08-27T00:03:09.295196Z"
    }
   },
   "outputs": [],
   "source": [
    "import numpy as np"
   ]
  },
  {
   "cell_type": "code",
   "execution_count": 2,
   "metadata": {
    "ExecuteTime": {
     "end_time": "2021-08-21T15:32:14.843849Z",
     "start_time": "2021-08-21T15:32:14.827310Z"
    }
   },
   "outputs": [
    {
     "name": "stdout",
     "output_type": "stream",
     "text": [
      "[0]\n"
     ]
    }
   ],
   "source": [
    "print(np.random.binomial(1,0.5,1))"
   ]
  },
  {
   "cell_type": "code",
   "execution_count": 3,
   "metadata": {
    "ExecuteTime": {
     "end_time": "2021-08-21T15:36:10.949620Z",
     "start_time": "2021-08-21T15:36:10.930209Z"
    }
   },
   "outputs": [
    {
     "name": "stdout",
     "output_type": "stream",
     "text": [
      "[3 3 3 0 1 2 3 3 1 2]\n"
     ]
    }
   ],
   "source": [
    "print(np.random.binomial(5,0.5,10))"
   ]
  },
  {
   "cell_type": "markdown",
   "metadata": {},
   "source": [
    "- The first argument represents the number of trials - or how many coin flips we’re doing in each experiment\n",
    "- The second argument represents  or the probability of “success”.\n",
    "- The third argument represents how many experiments you’re running"
   ]
  },
  {
   "cell_type": "markdown",
   "metadata": {},
   "source": [
    "## Building the Experiment"
   ]
  },
  {
   "cell_type": "code",
   "execution_count": 2,
   "metadata": {
    "ExecuteTime": {
     "end_time": "2021-08-27T00:04:52.234791Z",
     "start_time": "2021-08-27T00:04:52.213277Z"
    }
   },
   "outputs": [
    {
     "name": "stdout",
     "output_type": "stream",
     "text": [
      "[0]\n",
      "[1]\n",
      "[0]\n",
      "[0]\n",
      "[0]\n",
      "[1]\n",
      "[1]\n",
      "[0]\n",
      "[1]\n",
      "[0]\n"
     ]
    }
   ],
   "source": [
    "for i in range(10):\n",
    "    print(np.random.binomial(1,0.5,1))"
   ]
  },
  {
   "cell_type": "markdown",
   "metadata": {},
   "source": [
    "**OR**"
   ]
  },
  {
   "cell_type": "code",
   "execution_count": 3,
   "metadata": {
    "ExecuteTime": {
     "end_time": "2021-08-27T00:05:03.765628Z",
     "start_time": "2021-08-27T00:05:03.759543Z"
    }
   },
   "outputs": [
    {
     "name": "stdout",
     "output_type": "stream",
     "text": [
      "[1 0 0 1 0 1 0 1 0 1]\n"
     ]
    }
   ],
   "source": [
    "print(np.random.binomial(1,0.5,10))"
   ]
  },
  {
   "cell_type": "code",
   "execution_count": 4,
   "metadata": {
    "ExecuteTime": {
     "end_time": "2021-08-27T00:08:40.082284Z",
     "start_time": "2021-08-27T00:08:40.070711Z"
    }
   },
   "outputs": [
    {
     "name": "stdout",
     "output_type": "stream",
     "text": [
      "[ 8  5 11 12 10 11  9 11 10  4]\n"
     ]
    }
   ],
   "source": [
    "print(np.random.binomial(20,0.5,10))"
   ]
  },
  {
   "cell_type": "markdown",
   "metadata": {},
   "source": [
    "## REPEATED BERNOULLI EXPERIMENTS"
   ]
  },
  {
   "cell_type": "code",
   "execution_count": 5,
   "metadata": {
    "ExecuteTime": {
     "end_time": "2021-08-27T00:29:59.564965Z",
     "start_time": "2021-08-27T00:29:59.541138Z"
    }
   },
   "outputs": [
    {
     "name": "stdout",
     "output_type": "stream",
     "text": [
      "[1 3 2 3 5 3 3 1 2 2 3 3 2 1 2 4 2 2 4 0]\n"
     ]
    }
   ],
   "source": [
    "np.random.seed(seed=7)\n",
    "print(np.random.binomial(5,0.5,20))"
   ]
  },
  {
   "cell_type": "code",
   "execution_count": 7,
   "metadata": {
    "ExecuteTime": {
     "end_time": "2021-08-27T00:44:40.023129Z",
     "start_time": "2021-08-27T00:44:39.998328Z"
    }
   },
   "outputs": [
    {
     "name": "stdout",
     "output_type": "stream",
     "text": [
      "probability for 1000: 0.159\n",
      "probability for 100000: 0.1632\n",
      "probability for 1000000: 0.15635\n"
     ]
    }
   ],
   "source": [
    "n_1000 = np.random.binomial(5,0.5,1000)\n",
    "n_10000 = np.random.binomial(5,0.5,10000)\n",
    "n_100000 = np.random.binomial(5,0.5,100000)\n",
    "\n",
    "print(f\"probability for 1000: {np.sum(n_1000==4)/1000}\")\n",
    "print(f\"probability for 100000: {np.sum(n_10000==4)/10000}\")\n",
    "print(f\"probability for 1000000: {np.sum(n_100000==4)/100000}\")"
   ]
  },
  {
   "cell_type": "markdown",
   "metadata": {},
   "source": [
    "## VISUALIZING FLIPPING A COIN"
   ]
  },
  {
   "cell_type": "code",
   "execution_count": null,
   "metadata": {},
   "outputs": [],
   "source": []
  }
 ],
 "metadata": {
  "kernelspec": {
   "display_name": "Python 3",
   "language": "python",
   "name": "python3"
  },
  "language_info": {
   "codemirror_mode": {
    "name": "ipython",
    "version": 3
   },
   "file_extension": ".py",
   "mimetype": "text/x-python",
   "name": "python",
   "nbconvert_exporter": "python",
   "pygments_lexer": "ipython3",
   "version": "3.6.9"
  },
  "toc": {
   "base_numbering": 1,
   "nav_menu": {},
   "number_sections": true,
   "sideBar": true,
   "skip_h1_title": false,
   "title_cell": "Table of Contents",
   "title_sidebar": "Contents",
   "toc_cell": false,
   "toc_position": {},
   "toc_section_display": true,
   "toc_window_display": false
  }
 },
 "nbformat": 4,
 "nbformat_minor": 2
}
